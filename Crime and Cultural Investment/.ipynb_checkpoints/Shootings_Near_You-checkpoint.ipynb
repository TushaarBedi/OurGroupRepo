{
 "cells": [
  {
   "cell_type": "code",
   "execution_count": 1,
   "metadata": {
    "collapsed": true
   },
   "outputs": [],
   "source": [
    "# Dependencies\n",
    "import requests\n",
    "import json\n",
    "import pandas as pd\n",
    "import numpy as np\n",
    "# Google developer API key\n",
    "from config import gkey\n",
    "from gmplot import gmplot\n",
    "import textwrap"
   ]
  },
  {
   "cell_type": "code",
   "execution_count": 2,
   "metadata": {},
   "outputs": [
    {
     "data": {
      "text/html": [
       "<div>\n",
       "<style>\n",
       "    .dataframe thead tr:only-child th {\n",
       "        text-align: right;\n",
       "    }\n",
       "\n",
       "    .dataframe thead th {\n",
       "        text-align: left;\n",
       "    }\n",
       "\n",
       "    .dataframe tbody tr th {\n",
       "        vertical-align: top;\n",
       "    }\n",
       "</style>\n",
       "<table border=\"1\" class=\"dataframe\">\n",
       "  <thead>\n",
       "    <tr style=\"text-align: right;\">\n",
       "      <th></th>\n",
       "      <th>CreationDate</th>\n",
       "      <th>Creator</th>\n",
       "      <th>DA_LEGAL_REVIEW</th>\n",
       "      <th>EditDate</th>\n",
       "      <th>Editor</th>\n",
       "      <th>INCIDENT_ID</th>\n",
       "      <th>LOCATION</th>\n",
       "      <th>Latitude</th>\n",
       "      <th>Longitude</th>\n",
       "      <th>MN</th>\n",
       "      <th>NARRATIVE</th>\n",
       "      <th>ObjectID</th>\n",
       "      <th>YEAR_MONTH</th>\n",
       "      <th>YR</th>\n",
       "    </tr>\n",
       "  </thead>\n",
       "  <tbody>\n",
       "    <tr>\n",
       "      <th>0</th>\n",
       "      <td>2018-04-06T09:01:52.875Z</td>\n",
       "      <td>CharlotteNC</td>\n",
       "      <td>Legally Justified</td>\n",
       "      <td>2018-04-06T09:01:52.875Z</td>\n",
       "      <td>CharlotteNC</td>\n",
       "      <td>7307</td>\n",
       "      <td>ORVIS STREET, CHARLOTTE 28216</td>\n",
       "      <td>35.252694</td>\n",
       "      <td>-80.849701</td>\n",
       "      <td>8</td>\n",
       "      <td>Officers served a high risk search warrant. Up...</td>\n",
       "      <td>1</td>\n",
       "      <td>2008-08</td>\n",
       "      <td>2008</td>\n",
       "    </tr>\n",
       "    <tr>\n",
       "      <th>1</th>\n",
       "      <td>2018-04-06T09:01:52.875Z</td>\n",
       "      <td>CharlotteNC</td>\n",
       "      <td>Legally Justified</td>\n",
       "      <td>2018-04-06T09:01:52.875Z</td>\n",
       "      <td>CharlotteNC</td>\n",
       "      <td>7699</td>\n",
       "      <td>N TRYON STREET, CHARLOTTE  28213</td>\n",
       "      <td>35.258041</td>\n",
       "      <td>-80.784238</td>\n",
       "      <td>11</td>\n",
       "      <td>Officers attempted to make a traffic stop, but...</td>\n",
       "      <td>2</td>\n",
       "      <td>2008-11</td>\n",
       "      <td>2008</td>\n",
       "    </tr>\n",
       "    <tr>\n",
       "      <th>2</th>\n",
       "      <td>2018-04-06T09:01:52.875Z</td>\n",
       "      <td>CharlotteNC</td>\n",
       "      <td>No DA review</td>\n",
       "      <td>2018-04-06T09:01:52.875Z</td>\n",
       "      <td>CharlotteNC</td>\n",
       "      <td>9687</td>\n",
       "      <td>E W.T. HARRIS BOULEVARD, CHARLOTTE 28227</td>\n",
       "      <td>35.198285</td>\n",
       "      <td>-80.726353</td>\n",
       "      <td>3</td>\n",
       "      <td>An officer was circulating an apartment comple...</td>\n",
       "      <td>3</td>\n",
       "      <td>2010-03</td>\n",
       "      <td>2010</td>\n",
       "    </tr>\n",
       "    <tr>\n",
       "      <th>3</th>\n",
       "      <td>2018-04-06T09:01:52.875Z</td>\n",
       "      <td>CharlotteNC</td>\n",
       "      <td>Legally Justified</td>\n",
       "      <td>2018-04-06T09:01:52.875Z</td>\n",
       "      <td>CharlotteNC</td>\n",
       "      <td>10386</td>\n",
       "      <td>BARRINGTON DRIVE, CHARLOTTE 28278</td>\n",
       "      <td>35.236462</td>\n",
       "      <td>-80.743223</td>\n",
       "      <td>7</td>\n",
       "      <td>Officers observed a large crowd of individuals...</td>\n",
       "      <td>4</td>\n",
       "      <td>2010-07</td>\n",
       "      <td>2010</td>\n",
       "    </tr>\n",
       "    <tr>\n",
       "      <th>4</th>\n",
       "      <td>2018-04-06T09:01:52.875Z</td>\n",
       "      <td>CharlotteNC</td>\n",
       "      <td>Legally Justified</td>\n",
       "      <td>2018-04-06T09:01:52.875Z</td>\n",
       "      <td>CharlotteNC</td>\n",
       "      <td>10392</td>\n",
       "      <td>PARK ROAD, CHARLOTTE 28209</td>\n",
       "      <td>35.173350</td>\n",
       "      <td>-80.851284</td>\n",
       "      <td>7</td>\n",
       "      <td>Officers responded to a robbery from business ...</td>\n",
       "      <td>5</td>\n",
       "      <td>2010-07</td>\n",
       "      <td>2010</td>\n",
       "    </tr>\n",
       "  </tbody>\n",
       "</table>\n",
       "</div>"
      ],
      "text/plain": [
       "               CreationDate      Creator    DA_LEGAL_REVIEW  \\\n",
       "0  2018-04-06T09:01:52.875Z  CharlotteNC  Legally Justified   \n",
       "1  2018-04-06T09:01:52.875Z  CharlotteNC  Legally Justified   \n",
       "2  2018-04-06T09:01:52.875Z  CharlotteNC       No DA review   \n",
       "3  2018-04-06T09:01:52.875Z  CharlotteNC  Legally Justified   \n",
       "4  2018-04-06T09:01:52.875Z  CharlotteNC  Legally Justified   \n",
       "\n",
       "                   EditDate       Editor  INCIDENT_ID  \\\n",
       "0  2018-04-06T09:01:52.875Z  CharlotteNC         7307   \n",
       "1  2018-04-06T09:01:52.875Z  CharlotteNC         7699   \n",
       "2  2018-04-06T09:01:52.875Z  CharlotteNC         9687   \n",
       "3  2018-04-06T09:01:52.875Z  CharlotteNC        10386   \n",
       "4  2018-04-06T09:01:52.875Z  CharlotteNC        10392   \n",
       "\n",
       "                                   LOCATION   Latitude  Longitude  MN  \\\n",
       "0             ORVIS STREET, CHARLOTTE 28216  35.252694 -80.849701   8   \n",
       "1          N TRYON STREET, CHARLOTTE  28213  35.258041 -80.784238  11   \n",
       "2  E W.T. HARRIS BOULEVARD, CHARLOTTE 28227  35.198285 -80.726353   3   \n",
       "3         BARRINGTON DRIVE, CHARLOTTE 28278  35.236462 -80.743223   7   \n",
       "4                PARK ROAD, CHARLOTTE 28209  35.173350 -80.851284   7   \n",
       "\n",
       "                                           NARRATIVE  ObjectID YEAR_MONTH  \\\n",
       "0  Officers served a high risk search warrant. Up...         1    2008-08   \n",
       "1  Officers attempted to make a traffic stop, but...         2    2008-11   \n",
       "2  An officer was circulating an apartment comple...         3    2010-03   \n",
       "3  Officers observed a large crowd of individuals...         4    2010-07   \n",
       "4  Officers responded to a robbery from business ...         5    2010-07   \n",
       "\n",
       "     YR  \n",
       "0  2008  \n",
       "1  2008  \n",
       "2  2010  \n",
       "3  2010  \n",
       "4  2010  "
      ]
     },
     "execution_count": 2,
     "metadata": {},
     "output_type": "execute_result"
    }
   ],
   "source": [
    "#http://clt-charlotte.opendata.arcgis.com/datasets/36b534fc414640fa843fc780f6d9aaf5_4.geojson\n",
    "#Incident Data\n",
    "url4 = \"http://clt-charlotte.opendata.arcgis.com/datasets/36b534fc414640fa843fc780f6d9aaf5_4.geojson\"\n",
    "response4 = requests.get(url4)\n",
    "df_incident = pd.DataFrame(response4.json()['features'])\n",
    "arr4 = []\n",
    "for b in df_incident[\"properties\"]:\n",
    "    arr4.append(b)\n",
    "df_incident = pd.DataFrame(arr4)\n",
    "df_incident.head()"
   ]
  },
  {
   "cell_type": "code",
   "execution_count": 3,
   "metadata": {
    "collapsed": true
   },
   "outputs": [],
   "source": [
    "#This drops an incident that is missing a latitude or a longitude\n",
    "df_incident = df_incident.dropna(axis=0, subset=['Latitude', 'Longitude'],how='any')\n",
    "df_incident=df_incident.reset_index(drop=True)"
   ]
  },
  {
   "cell_type": "code",
   "execution_count": 4,
   "metadata": {},
   "outputs": [
    {
     "name": "stdout",
     "output_type": "stream",
     "text": [
      "Let's find out if any CMPD officer involved shootings have occured near you!\n"
     ]
    }
   ],
   "source": [
    "#Start user interaction\n",
    "print(\"Let's find out if any CMPD officer involved shootings have occured near you!\")"
   ]
  },
  {
   "cell_type": "code",
   "execution_count": 5,
   "metadata": {},
   "outputs": [
    {
     "name": "stdout",
     "output_type": "stream",
     "text": [
      "Is the address you are searching for in Charlotte, NC? Y/N y\n"
     ]
    }
   ],
   "source": [
    "#If they are local, we will just inset Charlotte, NC into the address to reduce user error.\n",
    "#Most users should be local\n",
    "local=input(\"Is the address you are searching for in Charlotte, NC? Y/N \")\n",
    "bad_input=True\n",
    "while bad_input:\n",
    "    local=local.lower()\n",
    "    if local[0]==\"n\":\n",
    "        local=\"n\"\n",
    "        bad_input=False\n",
    "    elif local[0]==\"y\":\n",
    "        local=\"y\"\n",
    "        bad_input=False\n",
    "    else:\n",
    "        local=input(\"Sorry. I did not understand your answer.\\nIs the address you are searching for in Charlotte? Enter Y or N: \")\n"
   ]
  },
  {
   "cell_type": "code",
   "execution_count": 6,
   "metadata": {},
   "outputs": [
    {
     "name": "stdout",
     "output_type": "stream",
     "text": [
      "I will ask you for the address--number first, then the street.\n",
      "Please enter the address number for the location you are searching on: 3800\n",
      "Great! Thanks.\n",
      "Now enter in the street name like this: 'Michie Ct'. \n",
      "Now you try: Arco Corporate Drive\n"
     ]
    }
   ],
   "source": [
    "#Grab the street address from the user\n",
    "is_number=False\n",
    "print(\"I will ask you for the address--number first, then the street.\")\n",
    "#This loop will check to see if they are entering the address number\n",
    "while is_number==False:\n",
    "    add_number=input(\"Please enter the address number for the location you are searching on: \")\n",
    "    if add_number.isdigit():\n",
    "        is_number=True\n",
    "    else:\n",
    "        print(\"Oh no! Try again. Only the numbers, please.\")\n",
    "print(\"Great! Thanks.\")\n",
    "add_street=input(\"Now enter in the street name like this: 'Michie Ct'. \\nNow you try: \")"
   ]
  },
  {
   "cell_type": "code",
   "execution_count": 7,
   "metadata": {},
   "outputs": [
    {
     "name": "stdout",
     "output_type": "stream",
     "text": [
      "Charlotte\n"
     ]
    }
   ],
   "source": [
    "#We already found out if they are local, \n",
    "#so now we generate the city and state based on that (automatic for local, user-input for nonlocal)\n",
    "if local==\"y\":\n",
    "    city=\"Charlotte\"\n",
    "    state=\"NC\"\n",
    "else:\n",
    "    city=input(\"Please enter your US city: \")\n",
    "    bad_input=True\n",
    "    while bad_input:\n",
    "        state=input(\"Please enter you two digit state (example: NC, VT, VA, etc):\")\n",
    "        if len(state)!=2:\n",
    "            print(\"Remember, only the two digit postal code for your state, like CA or ME.\")\n",
    "        else:\n",
    "            bad_input=False\n",
    "#geocoding does not want spaces, so we replace them with plus signs in the city\n",
    "city=city.replace(\" \",\"+\")\n",
    "#print(city)"
   ]
  },
  {
   "cell_type": "code",
   "execution_count": 8,
   "metadata": {},
   "outputs": [
    {
     "name": "stdout",
     "output_type": "stream",
     "text": [
      "3800+Arco+Corporate+Drive,+Charlotte,+NC\n"
     ]
    }
   ],
   "source": [
    "#again, the street name cannot have spaces\n",
    "address=add_number+\"+\"+add_street+\",+\"+city+\",+\"+state\n",
    "address=address.replace(\" \",\"+\")\n",
    "print(address)"
   ]
  },
  {
   "cell_type": "code",
   "execution_count": 9,
   "metadata": {},
   "outputs": [],
   "source": [
    "#Now we use google to find the person's search address\n",
    "base_url=\"https://maps.googleapis.com/maps/api/geocode/json?address=\"\n",
    "key_base=\"&key=\"+gkey\n",
    "\n",
    "response=requests.get(base_url+address+key_base,\"Problem\").json()\n",
    "\n",
    "if response ==\"Problem\":\n",
    "        \n",
    "    nearest_lat=float('nan')\n",
    "    nearest_lng=float('nan')\n",
    "\n",
    "else:\n",
    "    try:\n",
    "        nearest_lat=response[\"results\"][0][\"geometry\"][\"location\"][\"lat\"]\n",
    "        nearest_lng=response[\"results\"][0][\"geometry\"][\"location\"][\"lng\"]\n",
    "    except:\n",
    "        nearest_lat=float('nan')\n",
    "        nearest_lng=float('nan')\n",
    "#print(nearest_lat, nearest_lng)"
   ]
  },
  {
   "cell_type": "code",
   "execution_count": 10,
   "metadata": {
    "collapsed": true
   },
   "outputs": [],
   "source": [
    "#Now compare the user's address to the shootings and see which is closest\n",
    "from math import sin, cos, sqrt, atan2, radians\n",
    "\n",
    "#Greatest distance between any two points in U.S. territory: 9,514 miles. \n",
    "#So, distances should be smaller than this and we are looking for the closest points\n",
    "winning_distance=9514\n",
    "\n",
    "# approximate radius of earth in km\n",
    "R = 6373.0\n",
    "lat1 = radians(abs(nearest_lat))\n",
    "lng1 = radians(abs(nearest_lng))\n",
    "\n",
    "for row in range(len(df_incident)):\n",
    "    lat2 = radians(abs(df_incident.iloc[row][\"Latitude\"]))\n",
    "    lng2 = radians(abs(df_incident.iloc[row][\"Longitude\"]))\n",
    "    \n",
    "    dlng = lng2 - lng1\n",
    "    dlat = lat2 - lat1\n",
    "\n",
    "    a = sin(dlat / 2)**2 + cos(lat1) * cos(lat2) * sin(dlng / 2)**2\n",
    "    c = 2 * atan2(sqrt(a), sqrt(1 - a))\n",
    "\n",
    "    distance = R * c\n",
    "    \n",
    "    if distance<winning_distance:\n",
    "        winning_distance=distance\n",
    "        location_index=row\n",
    "    \n",
    "    \n"
   ]
  },
  {
   "cell_type": "code",
   "execution_count": 11,
   "metadata": {},
   "outputs": [],
   "source": [
    "#The fatality/nonfatality/miss data is stored in a different API, so we will grab that info and cross reference by incident ID\n",
    "#This will tell us if the shooting resulted in a fatality, nonfatality, or miss\n",
    "#Victim API\n",
    "url2 = \"http://clt-charlotte.opendata.arcgis.com/datasets/2564657b1e9a4883ab388badadbeef6d_5.geojson\"\n",
    "response2 = requests.get(url2)\n",
    "df_victim = pd.DataFrame(response2.json()['features'])\n",
    "arr2 = []\n",
    "for b in df_victim[\"properties\"]:\n",
    "    arr2.append(b)\n",
    "df_victim = pd.DataFrame(arr2)\n",
    "try:\n",
    "    incident_num=df_incident.iloc[location_index][\"INCIDENT_ID\"]\n",
    "    result=df_victim.loc[df_victim[\"INCIDENT_ID\"]==incident_num,\"INDIVIDUAL_INJURY_TYPE\"].values\n",
    "except:\n",
    "    result=\"No shooting information found.\"\n"
   ]
  },
  {
   "cell_type": "code",
   "execution_count": 12,
   "metadata": {},
   "outputs": [
    {
     "name": "stdout",
     "output_type": "stream",
     "text": [
      "\n",
      "**********************************************************************\n",
      "\n",
      "I have found the closest officer involved shooting to your search location.\n",
      "\n",
      "**********************************************************************\n",
      "\n",
      "Let me tell you about it:\n",
      "In 2016 there was a shooting at Sharview Court, Charlotte 28217.\n",
      "According to records, this is what happened:\n",
      "Patrol officers responded to a robbery call for service.  Upon\n",
      "arrival, the victim stated that two individuals exited a vehicle and\n",
      "approached her on foot.  They stole her purse and fled the scene in a\n",
      "vehicle. The individuals then traveled to Sharview Circle and were\n",
      "observed checking door handles on parked cars in the apartment complex\n",
      "parking lot.  A concerned citizen observed their actions and notified\n",
      "the officer, who was working in an off duty capacity at the apartment\n",
      "complex.  While the officer was being notified, the individuals robbed\n",
      "a male victim at gunpoint.  The individuals then fled from the scene\n",
      "on foot.  The officer located the individuals in the parking lot.  As\n",
      "he approached them, he verbally identified himself as an officer and\n",
      "gave orders for them to cooperate.  One of the individuals pointed a\n",
      "firearm in the direction of the officer, who subsequently fired his\n",
      "weapon.\n",
      "\n",
      "The shooting resulted in a ['Miss']\n"
     ]
    }
   ],
   "source": [
    "#Print the results, including the official recorded narrative\n",
    "if result==\"No shooting information found.\":\n",
    "    print(\"\\n**********************************************************************\\n\")\n",
    "    print(\"No closest shooting found. Check your address and try again.\")\n",
    "    print(\"\\n**********************************************************************\\n\")\n",
    "else:\n",
    "    print(\"\\n**********************************************************************\\n\")\n",
    "    print(\"I have found the closest officer involved shooting to your search location.\")\n",
    "    print(\"\\n**********************************************************************\\n\")\n",
    "    print(\"Let me tell you about it:\")\n",
    "    print(\"In \"+str(df_incident.iloc[location_index][\"YR\"])+ \" there was a shooting at \"+df_incident.iloc[location_index][\"LOCATION\"].title()+\".\")\n",
    "    print(\"According to records, this is what happened:\")\n",
    "    #This prevents words from being chopped up\n",
    "    text=textwrap.fill(df_incident.iloc[location_index][\"NARRATIVE\"])\n",
    "    print(text+\"\\n\")\n",
    "    print(\"The shooting resulted in a \"+str(result))"
   ]
  },
  {
   "cell_type": "code",
   "execution_count": null,
   "metadata": {
    "collapsed": true
   },
   "outputs": [],
   "source": []
  }
 ],
 "metadata": {
  "kernelspec": {
   "display_name": "Python 3",
   "language": "python",
   "name": "python3"
  },
  "language_info": {
   "codemirror_mode": {
    "name": "ipython",
    "version": 3
   },
   "file_extension": ".py",
   "mimetype": "text/x-python",
   "name": "python",
   "nbconvert_exporter": "python",
   "pygments_lexer": "ipython3",
   "version": "3.6.3"
  }
 },
 "nbformat": 4,
 "nbformat_minor": 2
}
