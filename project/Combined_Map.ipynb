{
 "cells": [
  {
   "cell_type": "code",
   "execution_count": 2,
   "metadata": {
    "collapsed": true
   },
   "outputs": [],
   "source": [
    "# Dependencies\n",
    "import requests\n",
    "import json\n",
    "import pandas as pd\n",
    "import os\n",
    "# Google developer API key\n",
    "from config import gkey\n",
    "from gmplot import gmplot\n",
    "from pprint import pprint\n"
   ]
  },
  {
   "cell_type": "code",
   "execution_count": 5,
   "metadata": {
    "collapsed": true
   },
   "outputs": [],
   "source": [
    "csvpath = os.path.join(\"shootings.csv\")\n",
    "csvpath2 = os.path.join(\"officer_outreach.csv\")\n",
    "\n",
    "shootings_data = pd.read_csv(csvpath)\n",
    "outreach_data = pd.read_csv(csvpath2, encoding=\"ANSI\")"
   ]
  },
  {
   "cell_type": "code",
   "execution_count": 8,
   "metadata": {
    "collapsed": true
   },
   "outputs": [],
   "source": [
    "# Place map\n",
    "gmap = gmplot.GoogleMapPlotter(outreach_data[\"Latitude\"].mean(), outreach_data[\"Longitude\"].mean(), 11.5)\n",
    "\n",
    "arr = []\n",
    "for i in range(len(shootings_data[\"Longitude\"])):\n",
    "    arr.append((shootings_data[\"Latitude\"][i],shootings_data[\"Longitude\"][i]))\n",
    "# Polygon\n",
    "#golden_gate_park_lats, golden_gate_park_lons = zip(*arr)\n",
    "#gmap.plot(golden_gate_park_lats, golden_gate_park_lons, 'cornflowerblue', edge_width=10)\n",
    "\n",
    "# Scatter points\n",
    "top_attraction_lats, top_attraction_lons = zip(*arr)\n",
    "gmap.scatter(top_attraction_lats, top_attraction_lons, 'rgb(200,0,0)', size=200, marker=False)\n",
    "\n",
    "\n",
    "\n",
    "\n",
    "arr2 = []\n",
    "for i in range(len(outreach_data[\"Longitude\"])):\n",
    "    arr2.append((outreach_data[\"Latitude\"][i],outreach_data[\"Longitude\"][i]))\n",
    "# Polygon\n",
    "#golden_gate_park_lats, golden_gate_park_lons = zip(*arr)\n",
    "#gmap.plot(golden_gate_park_lats, golden_gate_park_lons, 'cornflowerblue', edge_width=10)\n",
    "\n",
    "# Scatter points\n",
    "top_attraction_lats, top_attraction_lons = zip(*arr2)\n",
    "gmap.scatter(top_attraction_lats, top_attraction_lons, 'rgb(0,0,200)', size=200, marker=False)\n",
    "\n",
    "\n",
    "\n",
    "\n",
    "\n",
    "# Marker\n",
    "#hidden_gem_lat, hidden_gem_lon = outreach_data[\"Latitude\"].mean(), outreach_data[\"Longitude\"].mean()\n",
    "#gmap.marker(hidden_gem_lat, hidden_gem_lon, 'cornflowerblue')\n",
    "\n",
    "# Draw\n",
    "gmap.draw(\"Combined_Map.html\")"
   ]
  },
  {
   "cell_type": "code",
   "execution_count": 9,
   "metadata": {},
   "outputs": [
    {
     "data": {
      "text/plain": [
       "True"
      ]
     },
     "execution_count": 9,
     "metadata": {},
     "output_type": "execute_result"
    }
   ],
   "source": [
    "import webbrowser\n",
    "\n",
    "\n",
    "webbrowser.open_new_tab('Combined_Map.html')"
   ]
  },
  {
   "cell_type": "code",
   "execution_count": null,
   "metadata": {
    "collapsed": true
   },
   "outputs": [],
   "source": []
  }
 ],
 "metadata": {
  "kernelspec": {
   "display_name": "Python 3",
   "language": "python",
   "name": "python3"
  },
  "language_info": {
   "codemirror_mode": {
    "name": "ipython",
    "version": 3
   },
   "file_extension": ".py",
   "mimetype": "text/x-python",
   "name": "python",
   "nbconvert_exporter": "python",
   "pygments_lexer": "ipython3",
   "version": "3.6.3"
  }
 },
 "nbformat": 4,
 "nbformat_minor": 2
}
